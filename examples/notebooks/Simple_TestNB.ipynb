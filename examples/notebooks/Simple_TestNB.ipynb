{
 "cells": [
  {
   "cell_type": "markdown",
   "id": "7b20f9d4",
   "metadata": {},
   "source": [
    "# 0️⃣ Simple_TestNB - cell tags extension (Simple Notebook) - Imports"
   ]
  },
  {
   "cell_type": "code",
   "execution_count": 7,
   "id": "b2ba1f45",
   "metadata": {},
   "outputs": [
    {
     "name": "stdout",
     "output_type": "stream",
     "text": [
      "Automatic pdb calling has been turned OFF\n",
      "The autoreload extension is already loaded. To reload it, use:\n",
      "  %reload_ext autoreload\n",
      "Using matplotlib backend: tkagg\n",
      "DAY_DATE_STR: 2025-05-04, DAY_DATE_TO_USE: 2025-05-04\n"
     ]
    }
   ],
   "source": [
    "%config IPCompleter.use_jedi = False\n",
    "# %xmode Verbose\n",
    "# %xmode context\n",
    "%pdb off\n",
    "%load_ext autoreload\n",
    "%autoreload 3\n",
    "\n",
    "import sys\n",
    "from pathlib import Path\n",
    "\n",
    "\n",
    "import importlib\n",
    "from copy import deepcopy\n",
    "import numpy as np\n",
    "import pandas as pd\n",
    "pd.options.mode.chained_assignment = None  # default='warn'\n",
    "# pd.options.mode.dtype_backend = 'pyarrow' # use new pyarrow backend instead of numpy\n",
    "\n",
    "from attrs import define, field, fields, Factory, make_class\n",
    "from datetime import datetime, timedelta\n",
    "\n",
    "# Pho's Formatting Preferences\n",
    "import builtins\n",
    "\n",
    "# Plotting\n",
    "# import pylustrator # customization of figures\n",
    "import matplotlib\n",
    "import matplotlib as mpl\n",
    "import matplotlib.pyplot as plt\n",
    "_bak_rcParams = mpl.rcParams.copy()\n",
    "\n",
    "# matplotlib.use('Qt5Agg')\n",
    "# %matplotlib inline\n",
    "%matplotlib auto\n",
    "\n",
    "from datetime import datetime, date, timedelta\n",
    "\n",
    "DAY_DATE_STR: str = date.today().strftime(\"%Y-%m-%d\")\n",
    "DAY_DATE_TO_USE = f'{DAY_DATE_STR}' # used for filenames throught the notebook\n",
    "print(f'DAY_DATE_STR: {DAY_DATE_STR}, DAY_DATE_TO_USE: {DAY_DATE_TO_USE}')\n"
   ]
  },
  {
   "cell_type": "code",
   "execution_count": 8,
   "id": "545edc8b",
   "metadata": {},
   "outputs": [
    {
     "name": "stdout",
     "output_type": "stream",
     "text": [
      "DAY_DATE_STR: 2025-05-04, DAY_DATE_TO_USE: 2025-05-04\n"
     ]
    }
   ],
   "source": [
    "print(f'DAY_DATE_STR: {DAY_DATE_STR}, DAY_DATE_TO_USE: {DAY_DATE_TO_USE}')"
   ]
  },
  {
   "cell_type": "code",
   "execution_count": 9,
   "id": "8925ca66",
   "metadata": {},
   "outputs": [
    {
     "name": "stdout",
     "output_type": "stream",
     "text": [
      "DAY_DATE_STR: 2025-05-04, DAY_DATE_TO_USE: 2025-05-04\n"
     ]
    }
   ],
   "source": [
    "print(f'DAY_DATE_STR: {DAY_DATE_STR}, DAY_DATE_TO_USE: {DAY_DATE_TO_USE}')"
   ]
  }
 ],
 "metadata": {
  "kernelspec": {
   "display_name": "pho-vscode-OQyMKh8g-py3.9",
   "language": "python",
   "name": "python3"
  },
  "language_info": {
   "codemirror_mode": {
    "name": "ipython",
    "version": 3
   },
   "file_extension": ".py",
   "mimetype": "text/x-python",
   "name": "python",
   "nbconvert_exporter": "python",
   "pygments_lexer": "ipython3",
   "version": "3.9.13"
  }
 },
 "nbformat": 4,
 "nbformat_minor": 5
}
